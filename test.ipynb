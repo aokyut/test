{
 "cells": [
  {
   "cell_type": "code",
   "execution_count": 1,
   "metadata": {},
   "outputs": [],
   "source": [
    "from PIL import Image,ImageFilter\n",
    "import numpy as np\n",
    "filename=\"test.jpg\"\n",
    "img=Image.open(filename)\n",
    "height,width=img.size\n",
    "center_ver=int(height/2)\n",
    "center_hor=int(width/2)"
   ]
  },
  {
   "cell_type": "code",
   "execution_count": 47,
   "metadata": {
    "scrolled": false
   },
   "outputs": [],
   "source": [
    "img_p=np.array(img)[center_ver-64:center_ver+64,center_hor-64:center_hor+64,:]\n",
    "img2_p=np.array([img_p[round(i/2)-1,:,:] for i in range(1,257)])\n",
    "img3_p=np.array([img2_p[:,round(i/2)-1,:] for i in range(1,257)],dtype=\"uint8\")\n",
    "img3_p=img3_p.transpose(1,0,2)"
   ]
  },
  {
   "cell_type": "code",
   "execution_count": 48,
   "metadata": {},
   "outputs": [],
   "source": [
    "img3=Image.fromarray(img3_p)"
   ]
  },
  {
   "cell_type": "code",
   "execution_count": 49,
   "metadata": {},
   "outputs": [],
   "source": [
    "img3.show()"
   ]
  }
 ],
 "metadata": {
  "kernelspec": {
   "display_name": "Python 3",
   "language": "python",
   "name": "python3"
  },
  "language_info": {
   "codemirror_mode": {
    "name": "ipython",
    "version": 3
   },
   "file_extension": ".py",
   "mimetype": "text/x-python",
   "name": "python",
   "nbconvert_exporter": "python",
   "pygments_lexer": "ipython3",
   "version": "3.7.3"
  }
 },
 "nbformat": 4,
 "nbformat_minor": 2
}
